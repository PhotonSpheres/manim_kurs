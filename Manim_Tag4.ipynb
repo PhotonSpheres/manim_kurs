{
  "nbformat": 4,
  "nbformat_minor": 0,
  "metadata": {
    "colab": {
      "name": "Manim_Tag_4.ipynb",
      "provenance": [],
      "authorship_tag": "ABX9TyNKIKZHT0aP8toyvRZBVKr6",
      "include_colab_link": true
    },
    "kernelspec": {
      "name": "python3",
      "display_name": "Python 3"
    },
    "language_info": {
      "name": "python"
    }
  },
  "cells": [
    {
      "cell_type": "markdown",
      "metadata": {
        "id": "view-in-github",
        "colab_type": "text"
      },
      "source": [
        "<a href=\"https://colab.research.google.com/github/PhotonSpheres/manim_kurs/blob/main/Manim_Tag_4.ipynb\" target=\"_parent\"><img src=\"https://colab.research.google.com/assets/colab-badge.svg\" alt=\"Open In Colab\"/></a>"
      ]
    },
    {
      "cell_type": "code",
      "metadata": {
        "id": "LN28Q0hrdNXO"
      },
      "source": [
        "!sudo apt update\n",
        "!sudo apt install libcairo2-dev ffmpeg texlive texlive-latex-extra texlive-fonts-extra texlive-latex-recommended texlive-science tipa libpango1.0-dev\n",
        "!pip install manim\n",
        "!pip install IPython --upgrade"
      ],
      "execution_count": null,
      "outputs": []
    },
    {
      "cell_type": "code",
      "metadata": {
        "id": "kLa0Th3vemEj"
      },
      "source": [
        "from manim import *"
      ],
      "execution_count": null,
      "outputs": []
    },
    {
      "cell_type": "code",
      "metadata": {
        "id": "Jm3ONrqzeoGp"
      },
      "source": [
        "%%manim -v WARNING --progress_bar None --disable_caching -ql VectorFieldExample\n",
        "\n",
        "config.media_width = \"50%\"\n",
        "\n",
        "class VectorFieldExample(Scene):\n",
        "    def construct(self):\n",
        "\n",
        "        def my_v_field(pos):\n",
        "            return ((pos[0]*UR+pos[1]*LEFT)-pos)/3 #pos*5 # np.array([1.,0.,0.])\n",
        "\n",
        "        vec_field = ArrowVectorField(\n",
        "            my_v_field\n",
        "        )\n",
        "\n",
        "        vec_field_eq = MathTex(r\"(x,y,z) \\mapsto \\frac{1}{3} \\cdot \\left(\\left( x \\cdot \\begin{pmatrix} 1 \\\\ 1 \\\\ 0 \\end{pmatrix} + y \\cdot \\begin{pmatrix} -1 \\\\ 0 \\\\ 0 \\end{pmatrix}\\right) - \\begin{pmatrix} x \\\\ y \\\\ z \\end{pmatrix}\\right)\")\n",
        "        vec_field_eq.scale(0.6).to_corner(UL).add_background_rectangle()\n",
        "        self.add(vec_field, vec_field_eq)"
      ],
      "execution_count": null,
      "outputs": []
    },
    {
      "cell_type": "code",
      "metadata": {
        "id": "z0xjTy5khNHB"
      },
      "source": [
        "%%manim -v WARNING --progress_bar None --disable_caching -ql VectorFieldExample2\n",
        "\n",
        "config.media_width = \"50%\"\n",
        "\n",
        "class VectorFieldExample2(Scene):\n",
        "    def construct(self):\n",
        "\n",
        "        vec_field = ArrowVectorField(\n",
        "            lambda pos: pos-LEFT*5,\n",
        "            min_color_scheme_value = 2,\n",
        "            max_color_scheme_value = 10,\n",
        "            colors = [YELLOW, ORANGE, RED, TEAL, GREY]\n",
        "        )\n",
        "\n",
        "        c1 = Circle(radius=2).shift(LEFT*5).set_color(YELLOW)\n",
        "        c2 = Circle(radius=10).shift(LEFT*5).set_color(GREY)\n",
        "\n",
        "        self.add(vec_field, c1, c2)"
      ],
      "execution_count": null,
      "outputs": []
    },
    {
      "cell_type": "code",
      "metadata": {
        "id": "KHzmy3E4uRSV"
      },
      "source": [
        "%%manim -v WARNING --progress_bar None --disable_caching -ql VectorFieldExample3\n",
        "\n",
        "config.media_width = \"50%\"\n",
        "\n",
        "class VectorFieldExample3(Scene):\n",
        "    def construct(self):\n",
        "\n",
        "        vec_field = ArrowVectorField(\n",
        "            lambda pos: np.sin(pos[1]/2)*RIGHT+np.cos(pos[0]/2)*UP,\n",
        "            delta_x = 1,\n",
        "            delta_y = 1,\n",
        "            length_func = lambda x: x/2\n",
        "        )\n",
        "\n",
        "        c = Circle(radius=2).shift(LEFT)\n",
        "        c2 = c.copy()\n",
        "\n",
        "        vec_field.nudge(c, -2, 5, pointwise=True)\n",
        "\n",
        "        c.add_updater(\n",
        "            vec_field.get_nudge_updater(pointwise=True)\n",
        "        )\n",
        "\n",
        "        self.add(vec_field, c, c2)"
      ],
      "execution_count": null,
      "outputs": []
    },
    {
      "cell_type": "code",
      "metadata": {
        "id": "iutwGIQy4Rbt"
      },
      "source": [
        "%%manim -v WARNING --progress_bar None --disable_caching -ql VectorFieldExample4\n",
        "\n",
        "config.media_width = \"50%\"\n",
        "\n",
        "class VectorFieldExample4(Scene):\n",
        "    def construct(self):\n",
        "\n",
        "        def my_v_field(pos):\n",
        "            return ((pos[0]*UR+pos[1]*LEFT)-pos)/3 #pos*5 # np.array([1.,0.,0.])\n",
        "\n",
        "        st_lines = StreamLines(\n",
        "            my_v_field,\n",
        "            delta_x = 1,\n",
        "            delta_y = 1,\n",
        "            virtual_time = 1, # \"Länge der Linien\",\n",
        "            max_anchors_per_line = 5,\n",
        "            stroke_width = 3,\n",
        "            color = \"#FC6255\"\n",
        "        )\n",
        "\n",
        "        self.play(\n",
        "            # Create(st_lines)\n",
        "            st_lines.create()\n",
        "        )\n",
        "        self.wait()\n",
        "\n",
        "        #self.add(st_lines)"
      ],
      "execution_count": null,
      "outputs": []
    },
    {
      "cell_type": "code",
      "metadata": {
        "id": "YswYaLSS_Xvb"
      },
      "source": [
        "%%manim -v WARNING --progress_bar None --disable_caching -ql VectorFieldExample5\n",
        "\n",
        "config.media_width = \"50%\"\n",
        "\n",
        "class VectorFieldExample5(Scene):\n",
        "    def construct(self):\n",
        "\n",
        "        st_lines = StreamLines(\n",
        "            lambda pos: np.sin(pos[1]/2)*RIGHT+np.cos(pos[0]/2)*UP,\n",
        "            stroke_width=3,\n",
        "            max_anchors_per_line=35\n",
        "        )\n",
        "        self.add(st_lines)\n",
        "        st_lines.start_animation(flow_speed=2)\n",
        "        self.wait(5)\n",
        "        self.play(\n",
        "            st_lines.end_animation()\n",
        "        )\n",
        "        self.wait()"
      ],
      "execution_count": null,
      "outputs": []
    },
    {
      "cell_type": "markdown",
      "metadata": {
        "id": "obo-Hc9vPzX6"
      },
      "source": [
        "# 3D"
      ]
    },
    {
      "cell_type": "code",
      "metadata": {
        "id": "znQTw_iaVaGy"
      },
      "source": [
        "%%manim -v WARNING --progress_bar None --disable_caching -ql ThreeDExample\n",
        "\n",
        "config.media_width = \"50%\"\n",
        "\n",
        "class ThreeDExample(ThreeDScene):\n",
        "    def construct(self):\n",
        "        self.set_camera_orientation(phi=75*DEGREES, theta=-45*DEGREES)\n",
        "\n",
        "        ax = ThreeDAxes()\n",
        "\n",
        "        #parabel = ax.get_graph(\n",
        "        #    lambda x: x**2\n",
        "        #)\n",
        "\n",
        "        text = Text(\"Hello World\").to_corner(UL)\n",
        "        self.add_fixed_in_frame_mobjects(text)\n",
        "\n",
        "        s = Torus()\n",
        "\n",
        "        self.add(ax,s)\n",
        "        self.wait(0.5)\n",
        "        self.begin_ambient_camera_rotation(rate=0.4)\n",
        "        self.wait(2)\n",
        "        self.stop_ambient_camera_rotation()\n",
        "        self.wait()"
      ],
      "execution_count": null,
      "outputs": []
    },
    {
      "cell_type": "code",
      "metadata": {
        "id": "VviFekV_cO34"
      },
      "source": [
        "%%manim -v WARNING --progress_bar None --disable_caching -ql ThreeDExample2\n",
        "\n",
        "config.media_width = \"50%\"\n",
        "\n",
        "class ThreeDExample2(ThreeDScene):\n",
        "    def construct(self):\n",
        "        self.set_camera_orientation(phi=75*DEGREES, theta=-45*DEGREES)\n",
        "\n",
        "        def gaussian_bell(u,v):\n",
        "            x = u\n",
        "            y = v\n",
        "            z = np.exp(-(u**2+v**2))\n",
        "            return np.array([x, y, z])\n",
        "\n",
        "        gaussian_graph = ParametricSurface(\n",
        "            gaussian_bell,\n",
        "            u_range = [-3,3],\n",
        "            v_range = [-3,3],\n",
        "            resolution=[20,40]\n",
        "        )\n",
        "\n",
        "        spring_graph = ParametricFunction(\n",
        "            lambda t: np.array([\n",
        "                                1.2*np.cos(t),\n",
        "                                1.2*np.sin(t),\n",
        "                                t*0.1\n",
        "            ]),\n",
        "            t_range = [-3*TAU, 5*TAU, 0.01]\n",
        "        ).set_shade_in_3d(True)\n",
        "\n",
        "        d = Dot3D(color=RED).move_to(spring_graph.get_start())\n",
        "\n",
        "\n",
        "        self.add(spring_graph,d)\n",
        "        self.play(\n",
        "            MoveAlongPath(d, spring_graph),\n",
        "            run_time=5\n",
        "        )\n"
      ],
      "execution_count": null,
      "outputs": []
    },
    {
      "cell_type": "code",
      "metadata": {
        "id": "SrCUD8eWC7oF"
      },
      "source": [
        "%%manim -v WARNING --progress_bar None --disable_caching -ql Tute3\n",
        "\n",
        "config.media_width = \"50%\"\n",
        "\n",
        "class Tute3(ThreeDScene):\n",
        "    def construct(self):\n",
        "\n",
        "        self.set_camera_orientation(phi=45 * DEGREES, theta=-45 * DEGREES)\n",
        "\n",
        "        axes = ThreeDAxes(y_range=[-3, 10, 3], y_length=7).add_coordinates()\n",
        "\n",
        "        graph = axes.get_graph(lambda x: x, x_range=[0, 3], color=RED_B)\n",
        "\n",
        "        e = ValueTracker(0)\n",
        "\n",
        "        surface = always_redraw(\n",
        "            lambda: ParametricSurface(\n",
        "                lambda u, v: axes.c2p(v, v * np.cos(u), v * np.sin(u)),\n",
        "                u_range = [0, e.get_value()],\n",
        "                v_range = [0,3],\n",
        "                checkerboard_colors=[GREEN, PURPLE],\n",
        "            )\n",
        "        )\n",
        "        self.add(axes, surface)\n",
        "        self.play(Create(graph))\n",
        "        self.play(\n",
        "            e.animate.set_value(2 * PI),\n",
        "            run_time=1,\n",
        "            rate_func=linear,\n",
        "        )\n",
        "        self.wait()"
      ],
      "execution_count": null,
      "outputs": []
    }
  ]
}
