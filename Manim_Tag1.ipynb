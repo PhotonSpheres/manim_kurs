{
  "nbformat": 4,
  "nbformat_minor": 0,
  "metadata": {
    "colab": {
      "name": "Manim_Kurs_(Tag_1).ipynb",
      "provenance": [],
      "collapsed_sections": [],
      "toc_visible": true,
      "authorship_tag": "ABX9TyOO2ZJOJqf5oFhhC+MRDIQ/",
      "include_colab_link": true
    },
    "kernelspec": {
      "name": "python3",
      "display_name": "Python 3"
    },
    "language_info": {
      "name": "python"
    }
  },
  "cells": [
    {
      "cell_type": "markdown",
      "metadata": {
        "id": "view-in-github",
        "colab_type": "text"
      },
      "source": [
        "<a href=\"https://colab.research.google.com/github/PhotonSpheres/manim_kurs/blob/main/Manim_Kurs_(Tag_1).ipynb\" target=\"_parent\"><img src=\"https://colab.research.google.com/assets/colab-badge.svg\" alt=\"Open In Colab\"/></a>"
      ]
    },
    {
      "cell_type": "markdown",
      "metadata": {
        "id": "uWN_d49LxsI0"
      },
      "source": [
        "# Manim - Erste Schritte\n",
        "\n",
        ">Dieses Tutorium wurde mithilfe folgender Quellen erstellt:\n",
        "*   [Dokumentation](https://docs.manim.community/en/stable/index.html)\n",
        "*   [Tutorial von kolibril13](https://flyingframes.readthedocs.io/en/latest/)\n",
        "*   [Videos von Brian Amedee](https://www.youtube.com/channel/UCnNljeRcRb_Y7Ok_TNtgB2w/featured)\n",
        "*   [Videos von Theorem of Beethoven](https://www.youtube.com/c/TheoremofBeethoven)\n",
        "\n",
        "\n",
        "Wir starten damit, alle zugehörigen Pakete auf Google Colab zu installieren. Dazu müssen wir folgenden Code ausführen:\n",
        "```python\n",
        "!sudo apt update\n",
        "!sudo apt install libcairo2-dev ffmpeg texlive texlive-latex-extra texlive-fonts-extra texlive-latex-recommended texlive-science tipa libpango1.0-dev\n",
        "!pip install manim\n",
        "!pip install IPython --upgrade\n",
        "```\n",
        "Dies kann wenige Minuten in Anpruch nehmen. Danach müssen wir die Laufzeit neu starten, indem wir auf `RESTART RUNTIME` am Ende der Ausgabebox klicken."
      ]
    },
    {
      "cell_type": "code",
      "metadata": {
        "id": "E-3TjTEUny8m"
      },
      "source": [
        "!sudo apt update\n",
        "!sudo apt install libcairo2-dev ffmpeg texlive texlive-latex-extra texlive-fonts-extra texlive-latex-recommended texlive-science tipa libpango1.0-dev\n",
        "!pip install manim\n",
        "!pip install IPython --upgrade"
      ],
      "execution_count": null,
      "outputs": []
    },
    {
      "cell_type": "markdown",
      "metadata": {
        "id": "_pEcxl6Iy6OP"
      },
      "source": [
        "Jetzt sind wir in der Lage Manim zu importieren. Andere Standardpakete, wie beispielsweise `numpy`, werden dadurch ebenfalls geladen."
      ]
    },
    {
      "cell_type": "code",
      "metadata": {
        "id": "KP2_E19JsewM",
        "colab": {
          "base_uri": "https://localhost:8080/",
          "height": 49
        },
        "outputId": "0d41846e-4b8d-4fda-b956-5096f77a2830"
      },
      "source": [
        "from manim import *"
      ],
      "execution_count": null,
      "outputs": [
        {
          "output_type": "display_data",
          "data": {
            "text/html": [
              "<pre style=\"white-space:pre;overflow-x:auto;line-height:normal;font-family:Menlo,'DejaVu Sans Mono',consolas,'Courier New',monospace\">Manim Community <span style=\"color: #008000; text-decoration-color: #008000\">v0.12.0</span>\n",
              "\n",
              "</pre>\n"
            ],
            "text/plain": [
              "Manim Community \u001b[32mv0.\u001b[0m\u001b[32m12.0\u001b[0m\n",
              "\n"
            ]
          },
          "metadata": {}
        }
      ]
    },
    {
      "cell_type": "markdown",
      "metadata": {
        "id": "DTss9fejz9nE"
      },
      "source": [
        "## Unsere Erste Szene!\n",
        "Eine Szene in Manim wird immer durch eine neue Klasse initialisiert. Diese Klasse erbt von der Manim Klasse `Scene` (im Spezialfall auch andere Möglichkeiten, z.B `ThreeDScene`, mehr dazu später). Innerhalb dieser Szene werden wir eine `construct` Methode überschreiben. Alles innerhalb dieser Methode kann später gerendert werden. Bisher sieht das also so aus:\n",
        "```python\n",
        "class NAME_DER_SZENE(Scene):\n",
        "    def construct(self):\n",
        "        # EUER CODE\n",
        "```\n",
        "Das Programm wird dann mit dem (Jupyter Magic) Befehl \n",
        "```python\n",
        "%%manim NAME_DER_SZENE\n",
        "\n",
        "config.media_width = \"50%\"\n",
        "```\n",
        "am Anfang der Zelle ausgeführt. Die zweite Zeile gibt dabei die Größe des Videos an (Achtung, nicht die Qualität!). Starten wir einfach mal mit einem einfachen Beispiel."
      ]
    },
    {
      "cell_type": "code",
      "metadata": {
        "id": "zrJqoVVxshg2",
        "colab": {
          "base_uri": "https://localhost:8080/",
          "height": 618
        },
        "outputId": "1d10634c-bead-4faa-dfdb-429ffa195b49"
      },
      "source": [
        "%%manim ErsteSzene\n",
        "\n",
        "config.media_width = \"50%\"\n",
        "\n",
        "class ErsteSzene(Scene):\n",
        "    def construct(self):\n",
        "        s = Square()\n",
        "        self.add(s)\n",
        "        self.wait(1)"
      ],
      "execution_count": null,
      "outputs": [
        {
          "output_type": "display_data",
          "data": {
            "text/html": [
              "<pre style=\"white-space:pre;overflow-x:auto;line-height:normal;font-family:Menlo,'DejaVu Sans Mono',consolas,'Courier New',monospace\"><span style=\"color: #7fbfbf; text-decoration-color: #7fbfbf\">[11/15/21 11:53:33] </span><span style=\"color: #008000; text-decoration-color: #008000\">INFO    </span> Animation <span style=\"color: #008000; text-decoration-color: #008000\">0</span> : Partial movie file        <a href=\"file:///usr/local/lib/python3.7/dist-packages/manim/scene/scene_file_writer.py\"><span style=\"color: #7f7f7f; text-decoration-color: #7f7f7f\">scene_file_writer.py</span></a><span style=\"color: #7f7f7f; text-decoration-color: #7f7f7f\">:</span><a href=\"file:///usr/local/lib/python3.7/dist-packages/manim/scene/scene_file_writer.py#512\"><span style=\"color: #7f7f7f; text-decoration-color: #7f7f7f\">512</span></a>\n",
              "                             written in <span style=\"color: #008000; text-decoration-color: #008000\">'/content/media/videos/conte</span>                         \n",
              "                             <span style=\"color: #008000; text-decoration-color: #008000\">nt/1080p60/partial_movie_files/ErsteSze</span>                         \n",
              "                             <span style=\"color: #008000; text-decoration-color: #008000\">ne/450974505_910656892_125983425.mp4'</span>                           \n",
              "</pre>\n"
            ],
            "text/plain": [
              "\u001b[2;36m[11/15/21 11:53:33]\u001b[0m\u001b[2;36m \u001b[0m\u001b[32mINFO    \u001b[0m Animation \u001b[32m0\u001b[0m : Partial movie file        \u001b]8;id=59349;file:///usr/local/lib/python3.7/dist-packages/manim/scene/scene_file_writer.py\u001b\\\u001b[2mscene_file_writer.py\u001b[0m\u001b]8;;\u001b\\\u001b[2m:\u001b[0m\u001b]8;id=668217;file:///usr/local/lib/python3.7/dist-packages/manim/scene/scene_file_writer.py#512\u001b\\\u001b[2m512\u001b[0m\u001b]8;;\u001b\\\n",
              "                             written in \u001b[32m'/content/media/videos/conte\u001b[0m                         \n",
              "                             \u001b[32mnt/1080p60/partial_movie_files/ErsteSze\u001b[0m                         \n",
              "                             \u001b[32mne/450974505_910656892_125983425.mp4'\u001b[0m                           \n"
            ]
          },
          "metadata": {}
        },
        {
          "output_type": "display_data",
          "data": {
            "text/html": [
              "<pre style=\"white-space:pre;overflow-x:auto;line-height:normal;font-family:Menlo,'DejaVu Sans Mono',consolas,'Courier New',monospace\"><span style=\"color: #7fbfbf; text-decoration-color: #7fbfbf\">                    </span><span style=\"color: #008000; text-decoration-color: #008000\">INFO    </span> Combining to Movie file.                <a href=\"file:///usr/local/lib/python3.7/dist-packages/manim/scene/scene_file_writer.py\"><span style=\"color: #7f7f7f; text-decoration-color: #7f7f7f\">scene_file_writer.py</span></a><span style=\"color: #7f7f7f; text-decoration-color: #7f7f7f\">:</span><a href=\"file:///usr/local/lib/python3.7/dist-packages/manim/scene/scene_file_writer.py#604\"><span style=\"color: #7f7f7f; text-decoration-color: #7f7f7f\">604</span></a>\n",
              "</pre>\n"
            ],
            "text/plain": [
              "\u001b[2;36m                   \u001b[0m\u001b[2;36m \u001b[0m\u001b[32mINFO    \u001b[0m Combining to Movie file.                \u001b]8;id=788167;file:///usr/local/lib/python3.7/dist-packages/manim/scene/scene_file_writer.py\u001b\\\u001b[2mscene_file_writer.py\u001b[0m\u001b]8;;\u001b\\\u001b[2m:\u001b[0m\u001b]8;id=298753;file:///usr/local/lib/python3.7/dist-packages/manim/scene/scene_file_writer.py#604\u001b\\\u001b[2m604\u001b[0m\u001b]8;;\u001b\\\n"
            ]
          },
          "metadata": {}
        },
        {
          "output_type": "display_data",
          "data": {
            "text/html": [
              "<pre style=\"white-space:pre;overflow-x:auto;line-height:normal;font-family:Menlo,'DejaVu Sans Mono',consolas,'Courier New',monospace\"><span style=\"color: #7fbfbf; text-decoration-color: #7fbfbf\">                    </span><span style=\"color: #008000; text-decoration-color: #008000\">INFO    </span>                                         <a href=\"file:///usr/local/lib/python3.7/dist-packages/manim/scene/scene_file_writer.py\"><span style=\"color: #7f7f7f; text-decoration-color: #7f7f7f\">scene_file_writer.py</span></a><span style=\"color: #7f7f7f; text-decoration-color: #7f7f7f\">:</span><a href=\"file:///usr/local/lib/python3.7/dist-packages/manim/scene/scene_file_writer.py#718\"><span style=\"color: #7f7f7f; text-decoration-color: #7f7f7f\">718</span></a>\n",
              "                             <span style=\"color: #808000; text-decoration-color: #808000; font-weight: bold\">File</span> ready at <span style=\"color: #008000; text-decoration-color: #008000\">'/content/media/videos/co</span>                         \n",
              "                             <span style=\"color: #008000; text-decoration-color: #008000\">ntent/1080p60/ErsteSzene.mp4'</span>                                   \n",
              "                                                                                             \n",
              "</pre>\n"
            ],
            "text/plain": [
              "\u001b[2;36m                   \u001b[0m\u001b[2;36m \u001b[0m\u001b[32mINFO    \u001b[0m                                         \u001b]8;id=134493;file:///usr/local/lib/python3.7/dist-packages/manim/scene/scene_file_writer.py\u001b\\\u001b[2mscene_file_writer.py\u001b[0m\u001b]8;;\u001b\\\u001b[2m:\u001b[0m\u001b]8;id=297413;file:///usr/local/lib/python3.7/dist-packages/manim/scene/scene_file_writer.py#718\u001b\\\u001b[2m718\u001b[0m\u001b]8;;\u001b\\\n",
              "                             \u001b[1;33mFile\u001b[0m ready at \u001b[32m'/content/media/videos/co\u001b[0m                         \n",
              "                             \u001b[32mntent/1080p60/ErsteSzene.mp4'\u001b[0m                                   \n",
              "                                                                                             \n"
            ]
          },
          "metadata": {}
        },
        {
          "output_type": "display_data",
          "data": {
            "text/html": [
              "<pre style=\"white-space:pre;overflow-x:auto;line-height:normal;font-family:Menlo,'DejaVu Sans Mono',consolas,'Courier New',monospace\"><span style=\"color: #7fbfbf; text-decoration-color: #7fbfbf\">                    </span><span style=\"color: #008000; text-decoration-color: #008000\">INFO    </span> <span style=\"color: #808000; text-decoration-color: #808000; font-weight: bold\">Rendered</span> ErsteSzene                                 <a href=\"file:///usr/local/lib/python3.7/dist-packages/manim/scene/scene.py\"><span style=\"color: #7f7f7f; text-decoration-color: #7f7f7f\">scene.py</span></a><span style=\"color: #7f7f7f; text-decoration-color: #7f7f7f\">:</span><a href=\"file:///usr/local/lib/python3.7/dist-packages/manim/scene/scene.py#235\"><span style=\"color: #7f7f7f; text-decoration-color: #7f7f7f\">235</span></a>\n",
              "                             <span style=\"color: #808000; text-decoration-color: #808000; font-weight: bold\">Played</span> <span style=\"color: #008000; text-decoration-color: #008000\">1</span> <span style=\"color: #808000; text-decoration-color: #808000; font-weight: bold\">animations</span>                                             \n",
              "</pre>\n"
            ],
            "text/plain": [
              "\u001b[2;36m                   \u001b[0m\u001b[2;36m \u001b[0m\u001b[32mINFO    \u001b[0m \u001b[1;33mRendered\u001b[0m ErsteSzene                                 \u001b]8;id=145250;file:///usr/local/lib/python3.7/dist-packages/manim/scene/scene.py\u001b\\\u001b[2mscene.py\u001b[0m\u001b]8;;\u001b\\\u001b[2m:\u001b[0m\u001b]8;id=915326;file:///usr/local/lib/python3.7/dist-packages/manim/scene/scene.py#235\u001b\\\u001b[2m235\u001b[0m\u001b]8;;\u001b\\\n",
              "                             \u001b[1;33mPlayed\u001b[0m \u001b[32m1\u001b[0m \u001b[1;33manimations\u001b[0m                                             \n"
            ]
          },
          "metadata": {}
        },
        {
          "output_type": "display_data",
          "data": {
            "text/html": [
              "<video controls autoplay loop style=\"max-width: 50%;\"  >\n",
              " <source src=\"data:video/mp4;base64,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\" type=\"video/mp4\">\n",
              " Your browser does not support the video tag.\n",
              " </video>"
            ],
            "text/plain": [
              "<IPython.core.display.Video object>"
            ]
          },
          "metadata": {}
        }
      ]
    },
    {
      "cell_type": "markdown",
      "metadata": {
        "id": "HxsLigS1Aqj4"
      },
      "source": [
        "In dieser Szene passieren drei Dinge; die drei Zeilen in unserer `construct` Methode.\n",
        "```python\n",
        "s = Square()\n",
        "self.add(s)\n",
        "self.wait(1)\n",
        "```\n",
        "Gehen wir diese nacheinander durch:\n",
        "\n",
        "1.   Wir initialisieren ein Quadrat durch die in Manim existierende Klasse `Square()` und speichern dieses in der Variablen `s`.\n",
        "2.   Wir fügen dieses Quadrat unserer Szene mittels `self.add(s)` hinzu.\n",
        "3.   Wir geben dem Video eine Dauer von einer Sekunde durch `self.wait(1)`.\n",
        "\n",
        "Dadurch haben wir ein Video mit einem Quadrat in der Mitte und einer Länge von einer Sekunde. Die Größe und Farbe des Quadrates sind alles Voreinstellungen und können leicht geändert werden.\n",
        "\n",
        "Um den Output auf Wesentliches zu beschränken, werden wir in Zukunft folgende Befehle benutzen:\n",
        "```python\n",
        "%%manim -v WARNING --progress_bar None --disable_caching NAME_DER_SZENE\n",
        "```\n",
        "Dadurch werden Nachrichten unterdrückt und das Caching-System ausgeschaltet.\n",
        "\n",
        "--- \n",
        "\n",
        "\n",
        "\n"
      ]
    },
    {
      "cell_type": "markdown",
      "metadata": {
        "id": "NhAXCPSHEL0b"
      },
      "source": [
        "## Aufgabe 1 - Dreieck, Kreis, Stern...\n",
        "Da wir nun wissen, dass `Square()` eine vordefinierte Klasse ist, gilt das bestimmt auch für andere elementare Objekte. Versuche nun neue Szenen mit diesen anderen Objekten zu kreieren. Dabei kann Dir diese Seite nützlich sein: [Dokumentation - Geometrie](https://docs.manim.community/en/stable/reference/manim.mobject.geometry.html)"
      ]
    },
    {
      "cell_type": "code",
      "metadata": {
        "id": "xTqZg5GgEH_8"
      },
      "source": [
        ""
      ],
      "execution_count": null,
      "outputs": []
    },
    {
      "cell_type": "markdown",
      "metadata": {
        "id": "_vmgWvnFFMN1"
      },
      "source": [
        "## Größe und Qualität des Videos\n",
        "Für eine Großzahl der Fälle möchte man sein Video in einem 16/9 Verhältnis haben. Bei der Bildqualität entscheidet die Anzahl der Pixel, die dieses Bild mit dem gewünschten Seitenverhältnis erschaffen. Für das gänginge Format hat Manim ein paar Voreinstellungen:\n",
        "\n",
        "*   `-ql` - \"quality low\" 854/480 Pixel\n",
        "*   `-qm` - \"quality medium\" 1280/720 Pixel\n",
        "*   `-qh` - \"quality high\" 1920/1080 Pixel\n",
        "*   `-qk` - \"quality 4k\" 3840/2160 Pixel\n",
        "\n",
        "Diese haben alle ein 16/9 Verhältnis. Höhere Qualität bedeutet natürlich auch immer längere Erstellungszeit.\n",
        "\n",
        "Testen wir es mal aus. Erkennt Ihr den Unterschied?\n",
        "\n",
        "\n"
      ]
    },
    {
      "cell_type": "code",
      "metadata": {
        "id": "SeJJmgUAFVsM",
        "colab": {
          "base_uri": "https://localhost:8080/"
        },
        "outputId": "e5cc1dba-daf9-48fa-a721-6caa0a5f4acf"
      },
      "source": [
        "%%manim -v WARNING  --progress_bar None  --disable_caching -ql LowQuality\n",
        "\n",
        "config.media_width = \"50%\"\n",
        "\n",
        "class LowQuality(Scene):\n",
        "    def construct(self):\n",
        "        s = Square()\n",
        "        self.add(s)\n",
        "        self.wait(1)"
      ],
      "execution_count": null,
      "outputs": [
        {
          "output_type": "stream",
          "name": "stderr",
          "text": [
            "UsageError: Cell magic `%%manim` not found.\n"
          ]
        }
      ]
    },
    {
      "cell_type": "code",
      "metadata": {
        "id": "2JQ6EvYPIHuI"
      },
      "source": [
        "%%manim -v WARNING  --progress_bar None  --disable_caching -qk FourKQuality\n",
        "\n",
        "config.media_width = \"50%\"\n",
        "\n",
        "class FourKQuality(Scene):\n",
        "    def construct(self):\n",
        "        s = Square()\n",
        "        self.add(s)\n",
        "        self.wait(1)"
      ],
      "execution_count": null,
      "outputs": []
    },
    {
      "cell_type": "markdown",
      "metadata": {
        "id": "qESwa8S4IZZf"
      },
      "source": [
        "Es lassen sich auch beliebige andere Verhälnisse erzeugen, durch einen Befehl `-r ZAHL, ZAHL` (`r` für _resolution_). Testen wir doch mal mit `-r 1000,1000`. Danach teste gerne weitere Möglichkeiten!"
      ]
    },
    {
      "cell_type": "code",
      "metadata": {
        "id": "LnVt91sqIZDO"
      },
      "source": [
        "%%manim -v WARNING  --progress_bar None  --disable_caching -r 1000,1000 CustomQuality\n",
        "\n",
        "config.media_width = \"50%\"\n",
        "\n",
        "class CustomQuality(Scene):\n",
        "    def construct(self):\n",
        "        s = Square()\n",
        "        self.add(s)\n",
        "        self.wait(1)"
      ],
      "execution_count": null,
      "outputs": []
    },
    {
      "cell_type": "markdown",
      "metadata": {
        "id": "f-rUYMQwJVwn"
      },
      "source": [
        "## Position auf dem Bildschirm\n",
        "Alle Objekte sind bisher immer in der Mitte des Bildschirms erschienen. Nun lernen wir ein wenig darüber, wie man diese Objekte verschiebt. Man unterscheidet dabei zwischen absoluten und relativen Positionen. Ersteres bedeutet eine Position explizit in den unterliegenden Koordinaten der Szene, während zweiteres sich auf Positionen relativ zu anderen Objekten bezieht.\n",
        "\n",
        "Eine 2D Standard Szene hat intern die Koordinaten $(-7.\\bar{2}, 7.\\bar{2})\\times (-4,4)$. Wichtige Methoden um die Position zu ändern sind:\n",
        "\n",
        "`shift`, `move_to`, `align_to`, `next_to`, `to_corner`, `to_edge`, `arrange`, `arrange_in_grid`\n",
        "\n",
        "Außerdem nützlich sind die Basisvektoren:\n",
        "\n",
        "*   `LEFT = [-1,0,0]`\n",
        "*   `RIGHT = [1,0,0]`\n",
        "*   `DOWN = [0,-1,0]`\n",
        "*   `UP = [0,1,0]`\n",
        "\n"
      ]
    },
    {
      "cell_type": "code",
      "metadata": {
        "id": "8OykWrVbJbYe",
        "colab": {
          "base_uri": "https://localhost:8080/",
          "height": 442
        },
        "outputId": "34445862-803b-4471-9c45-cae6dea803d8"
      },
      "source": [
        "%%manim -v WARNING --progress_bar None --disable_caching -ql PositionExamples\n",
        "\n",
        "config.media_width = \"50%\"\n",
        "\n",
        "class PositionExamples(Scene):\n",
        "    def construct(self):\n",
        "        s = Square().to_corner(UP+LEFT)\n",
        "        t = Triangle().shift(DOWN)\n",
        "        st = Star().move_to([6,-3,0])\n",
        "        c = Circle().to_edge(RIGHT)\n",
        "        d = Dot().next_to(t, LEFT)\n",
        "        t.shift(DOWN)\n",
        "        self.add(s, t, st, c, d)\n",
        "        self.wait(1)"
      ],
      "execution_count": null,
      "outputs": [
        {
          "output_type": "display_data",
          "data": {
            "text/html": [
              "<video controls autoplay loop style=\"max-width: 50%;\"  >\n",
              " <source src=\"data:video/mp4;base64,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\" type=\"video/mp4\">\n",
              " Your browser does not support the video tag.\n",
              " </video>"
            ],
            "text/plain": [
              "<IPython.core.display.Video object>"
            ]
          },
          "metadata": {}
        }
      ]
    },
    {
      "cell_type": "markdown",
      "metadata": {
        "id": "-d_Qy2hePOzr"
      },
      "source": [
        "Normalerweise haben relative Positionierungsmethoden einen Parameter `buff`, um einen Abstand zu definieren."
      ]
    },
    {
      "cell_type": "code",
      "metadata": {
        "id": "CEj_aR98O_tR"
      },
      "source": [
        "%%manim -v WARNING  --progress_bar None  --disable_caching -ql BuffExample\n",
        "\n",
        "config.media_width = \"50%\"\n",
        "\n",
        "class BuffExample(Scene):\n",
        "    def construct(self):\n",
        "        s = Square()\n",
        "        t = Triangle().next_to(s, DOWN, buff=0)\n",
        "        st = Star().to_corner(UL, buff=1)\n",
        "        c = Circle().to_edge(RIGHT, buff=0)\n",
        "        self.add(s, t, st, c)\n",
        "        self.wait(1)"
      ],
      "execution_count": null,
      "outputs": []
    },
    {
      "cell_type": "markdown",
      "metadata": {
        "id": "BMxpNYg8QEbB"
      },
      "source": [
        "Mehrere Objekte können zusammen in eine Gruppe `VGroup` gesammelt werden, um die Methoden `arrange` und `arrange_in_grid` zu verwenden."
      ]
    },
    {
      "cell_type": "code",
      "metadata": {
        "id": "uOobzSEAQDZ6"
      },
      "source": [
        "%%manim -v WARNING  --progress_bar None  --disable_caching -ql GroupExample\n",
        "\n",
        "config.media_width = \"50%\"\n",
        "\n",
        "class GroupExample(Scene):\n",
        "    def construct(self):\n",
        "        s = Square()\n",
        "        t = Triangle()\n",
        "        st = Star()\n",
        "        c = Circle()\n",
        "\n",
        "        g = VGroup(s,t,st,c)\n",
        "        g.arrange()\n",
        "        \n",
        "        self.add(g)\n",
        "        self.wait(1)"
      ],
      "execution_count": null,
      "outputs": []
    },
    {
      "cell_type": "code",
      "metadata": {
        "id": "GmLNDIq_QqxC"
      },
      "source": [
        "%%manim -v WARNING  --progress_bar None  --disable_caching -ql GroupExample2\n",
        "\n",
        "config.media_width = \"50%\"\n",
        "\n",
        "class GroupExample2(Scene):\n",
        "    def construct(self):\n",
        "        s = Square()\n",
        "        t = Triangle()\n",
        "        st = Star()\n",
        "        c = Circle()\n",
        "        n = NumberPlane()\n",
        "\n",
        "        g = VGroup(s,t,st,c)\n",
        "        g.arrange_in_grid()\n",
        "\n",
        "        self.add(g,n)\n",
        "        self.wait(1)"
      ],
      "execution_count": null,
      "outputs": []
    },
    {
      "cell_type": "markdown",
      "metadata": {
        "id": "GzciPGCeUS0O"
      },
      "source": [
        "Am Anfang ist es wohl am einfachsten, sich manche Methoden in der Dokumentation anzuschauen, zum Beispiel hier: [arrange_in_grid](https://docs.manim.community/en/stable/reference/manim.mobject.mobject.Mobject.html?highlight=arrange%20in%20grid#manim.mobject.mobject.Mobject.arrange_in_grid).\n",
        "\n",
        "Dort finden sich alle Parameter sowie einige Beispiele."
      ]
    },
    {
      "cell_type": "markdown",
      "metadata": {
        "id": "DVeEAB9TVOGr"
      },
      "source": [
        "## Aufgabe 2 - Positionen\n",
        "Spiele ein wenig mit den Positionen herum. Versuche dabei auch Objekte aus der sichtbaren Szene hinaus zu bewegen und verschiedene Parameter von `arrange` und `arrange_in_grid` zu setzen. Die Dokumentation ist dabei sehr nützlich.\n",
        "\n",
        "Ebenfalls hilfreich könnte das hier sein: [Anderes Tutorial](https://flyingframes.readthedocs.io/en/latest/ch2.html)\n"
      ]
    },
    {
      "cell_type": "markdown",
      "metadata": {
        "id": "3Cw-E56mWjA3"
      },
      "source": [
        "## Positionen von anderen Objekten ablesen\n",
        "Möchte man bestimmte Positionen von bereits erstellen Objekten wissen, um beispielsweise andere Objekte dort zu platzieren, sind folgende Methoden sehr nützlich:\n",
        "\n",
        "`get_center`, `get_top`, `get_bottom`, `get_left`, `get_right`, `get_start` \n",
        "\n",
        "Diese geben jeweils volle Koordinaten zurück. Man kann aber auch einzelne Koordinaten ablesen via:\n",
        "\n",
        "`get_x`, `get_y`, `set_x`, `set_y`"
      ]
    },
    {
      "cell_type": "code",
      "metadata": {
        "id": "Gr5RktfKWitk"
      },
      "source": [
        "%%manim -v WARNING --progress_bar None --disable_caching -ql GetPosition\n",
        "\n",
        "config.media_width = \"50%\"\n",
        "\n",
        "class GetPosition(Scene):\n",
        "    def construct(self):\n",
        "        s = Square().to_edge(UR)\n",
        "        pos = s.get_center()\n",
        "        d = Dot().move_to(pos)\n",
        "\n",
        "        self.add(s, d)\n",
        "        self.wait(1)"
      ],
      "execution_count": null,
      "outputs": []
    },
    {
      "cell_type": "code",
      "metadata": {
        "id": "Ljf3M0LSacI2"
      },
      "source": [
        "%%manim -v WARNING --progress_bar None --disable_caching -ql GetPosition\n",
        "\n",
        "config.media_width = \"50%\"\n",
        "\n",
        "class GetPosition(Scene):\n",
        "    def construct(self):\n",
        "        s = Square().to_edge(UR)\n",
        "        pos = s.get_x()\n",
        "        d = Dot().set_x(pos)\n",
        "\n",
        "        self.add(s, d)\n",
        "        self.wait(1)"
      ],
      "execution_count": null,
      "outputs": []
    },
    {
      "cell_type": "code",
      "metadata": {
        "id": "62wX5oDBbcJ7"
      },
      "source": [
        "%%manim -v WARNING --progress_bar None --disable_caching -ql GetPosition\n",
        "\n",
        "config.media_width = \"50%\"\n",
        "\n",
        "class GetPosition(Scene):\n",
        "    def construct(self):\n",
        "        a = Arc(radius=2, start_angle=PI/2)\n",
        "        d = Dot()\n",
        "        d2 = Dot().move_to(a.get_end())\n",
        "        d3 = Dot(radius=0.2).move_to(a.get_arc_center())\n",
        "        start_of_arc = a.get_start()\n",
        "        d.move_to(start_of_arc)\n",
        "        self.add(a,d,d2,d3)\n",
        "        self.wait(1)"
      ],
      "execution_count": null,
      "outputs": []
    },
    {
      "cell_type": "markdown",
      "metadata": {
        "id": "xsQLW1UsYYqv"
      },
      "source": [
        "## Aufgabe 3 - Positionen ablesen\n",
        "Spiele nun auch mit diesen Methoden ein bisschen herum. Scheue Dich nicht davor, mehrere Objekte auf dem Bildschirm zu platzieren. Viele relevante Beispiele gibt es wieder hier: [Anderes Tutorial](https://flyingframes.readthedocs.io/en/latest/ch2.html).\n",
        "\n",
        "Versuche Dir Positionen mit der `print` Funktion ausgeben zu lassen. Das kann manchmal bei der Orientierung helfen!"
      ]
    },
    {
      "cell_type": "code",
      "metadata": {
        "id": "ZWGhbmG0ZAE-"
      },
      "source": [
        ""
      ],
      "execution_count": null,
      "outputs": []
    },
    {
      "cell_type": "markdown",
      "metadata": {
        "id": "S_wBbj7iZAvW"
      },
      "source": [
        "## Skalieren und Verformen\n",
        "Objekte lassen sich verformen, insbesondere vergrößern und verkleinern. Dazu wird meistens die Methode `scale()` benutzt. "
      ]
    },
    {
      "cell_type": "code",
      "metadata": {
        "id": "fqBOQkQseT9i"
      },
      "source": [
        "%%manim -v WARNING --progress_bar None --disable_caching -ql ScaleExample\n",
        "\n",
        "config.media_width = \"50%\"\n",
        "\n",
        "class ScaleExample(Scene):\n",
        "  def construct(self):\n",
        "    c = Circle()\n",
        "    c2 = Circle().scale(2)\n",
        "    c3 = Circle().scale(0.5)\n",
        "    self.add(c, c2, c3)\n",
        "    self.wait(1)"
      ],
      "execution_count": null,
      "outputs": []
    },
    {
      "cell_type": "markdown",
      "metadata": {
        "id": "gkYp6UyDitU3"
      },
      "source": [
        "Außerdem gibt es `stretch`, `stretch_in_place`..."
      ]
    },
    {
      "cell_type": "code",
      "metadata": {
        "id": "riT6r4t5fHtN"
      },
      "source": [
        "%%manim -v WARNING --progress_bar None --disable_caching -ql StretchExample\n",
        "\n",
        "config.media_width = \"50%\"\n",
        "\n",
        "class StretchExample(Scene):\n",
        "  def construct(self):\n",
        "    c = Circle()\n",
        "    c2 = Circle().stretch(2, dim=1)\n",
        "    c3 = Circle().stretch(2, dim=0)\n",
        "    self.add(c, c2, c3)\n",
        "    self.wait(1)"
      ],
      "execution_count": null,
      "outputs": []
    },
    {
      "cell_type": "markdown",
      "metadata": {
        "id": "ksi2kxRajO88"
      },
      "source": [
        "## Drehungen\n",
        "\n",
        "Drehungen werden beispielsweise durch die Methode `rotate` getätigt. Meistens wird in Manim bei Winkeln Bogenmaß benutzt. Man kann mit der Konstante `DEGREES` mutliplizieren, um Gradmaß zu erhalten."
      ]
    },
    {
      "cell_type": "code",
      "metadata": {
        "id": "CeXCLnx7jyIq"
      },
      "source": [
        "%%manim -v WARNING --progress_bar None --disable_caching -ql RotateExample\n",
        "\n",
        "config.media_width = \"50%\"\n",
        "\n",
        "class RotateExample(Scene):\n",
        "  def construct(self):\n",
        "    s = Square().rotate(PI/6)\n",
        "    self.add(s)\n",
        "    self.wait(1)\n",
        "    s.rotate(PI/4)\n",
        "    self.wait(1)"
      ],
      "execution_count": null,
      "outputs": []
    },
    {
      "cell_type": "markdown",
      "metadata": {
        "id": "SM3ObeVClkZu"
      },
      "source": [
        "## Farben, Stroke, Fill\n",
        "\n",
        "Viele Farben sind in Manim vordefniert: `WHITE`, `BLUE`, `RED`, `RED_B`,.... Ansonsten lassen sich Farben auch mittels Hex-Strings setzen, siehe mehr [hier](https://docs.manim.community/en/stable/reference/manim.utils.color.Colors.html).\n",
        "\n",
        "Die meisten bisher vorgekommenen Objekte unterscheiden zwischen der Strichfarbe (`stroke_color`) und der Füllfarbe (`fill_color`). Die Deckkraft (`stroke_opacity`; `fill_opacity`) beider Farben lässt sich ebenfalls noch durch eine Zahl zwischen 0 (durchsichtig) und 1 (undurchsichtig) setzen.\n",
        "\n",
        "Die Strichdicke, soferen vorhanden, lässt sich über den Parameter `stroke_width` bestimmen.\n",
        "\n",
        "Es gibt hier viele verschiedene Möglichkeiten, um in Manim das gleiche Objekt zu bekommen: Man kann Objekten direkt bei der Initialisierung diese Parameter geben oder später durch Methoden wie `set_style`, `set_stroke`, `set_fill`, `set_color` verändern.\n",
        "\n"
      ]
    },
    {
      "cell_type": "code",
      "metadata": {
        "id": "LnC2yPOumTfx"
      },
      "source": [
        "%%manim -v WARNING --progress_bar None --disable_caching -ql ColroExample\n",
        "\n",
        "config.media_width = \"50%\"\n",
        "\n",
        "class ColroExample(Scene):\n",
        "    def construct(self):\n",
        "        s1 = Square(\n",
        "            stroke_color=BLUE,\n",
        "            stroke_width=15,\n",
        "            fill_color=YELLOW,\n",
        "            fill_opacity=1\n",
        "        )\n",
        "\n",
        "        s2 = Square()\n",
        "        s2.set_style(\n",
        "            stroke_color=BLUE,\n",
        "            stroke_width=15,\n",
        "            fill_color=YELLOW,\n",
        "            fill_opacity=1\n",
        "        )\n",
        "\n",
        "        s3 = Square()\n",
        "        s3.set_stroke(color=BLUE, width=15)\n",
        "        s3.set_fill(color=YELLOW, opacity=1)\n",
        "\n",
        "        square_group = VGroup(s1, s2, s3).arrange(buff=0.5)\n",
        "        self.add(square_group)\n",
        "        self.wait()"
      ],
      "execution_count": null,
      "outputs": []
    },
    {
      "cell_type": "markdown",
      "metadata": {
        "id": "thcCL9S1ze_L"
      },
      "source": [
        "Oft können auch Listen mit verschiedenen Farben gegeben werden, um einen Gradienten zu bekommen. Die Methode `set_color_by_gradient` kann dabei nützlich sein, um einen Gradienten über mehrere Objekete hinweg in einer Gruppe zu erstellen. "
      ]
    },
    {
      "cell_type": "code",
      "metadata": {
        "id": "deNl29G4zuY1"
      },
      "source": [
        "%%manim -v WARNING --progress_bar None --disable_caching -ql ColroExample2\n",
        "\n",
        "config.media_width = \"50%\"\n",
        "\n",
        "class ColroExample2(Scene):\n",
        "    def construct(self):\n",
        "        s = Star(stroke_width=0).shift(UP)\n",
        "        s.set_fill(color=[BLUE, RED, YELLOW], opacity=1)\n",
        "\n",
        "        dots = VGroup(*[Dot() for _ in range(15)]).scale(2).arrange().shift(DOWN)\n",
        "        dots2 = dots.copy().shift(DOWN)\n",
        "        \n",
        "        dots.set_color([RED, BLUE])\n",
        "        dots2.set_color_by_gradient(RED, BLUE)\n",
        "\n",
        "        self.add(s, dots, dots2)\n",
        "        self.wait()"
      ],
      "execution_count": null,
      "outputs": []
    },
    {
      "cell_type": "markdown",
      "metadata": {
        "id": "PZ_hB5m9a4ZU"
      },
      "source": [
        "## Aufgabe 4 - Nachmachen!\n",
        "Versuche folgende Szene zu coden:\n",
        "![Aufgabe_4.png](data:image/png;base64,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)"
      ]
    },
    {
      "cell_type": "code",
      "metadata": {
        "id": "gmDaWrbPbTJj"
      },
      "source": [
        ""
      ],
      "execution_count": null,
      "outputs": []
    },
    {
      "cell_type": "markdown",
      "metadata": {
        "id": "J7XyW_HauAGj"
      },
      "source": [
        "# Animate it up!\n",
        "\n",
        "Wir haben nun verschiedene Objekte kennen gelernt und können diese auf mehrere Arten platzieren. Das Ziel ist jedoch, Dinge zu animieren. Damit fangen wir nun an!"
      ]
    },
    {
      "cell_type": "markdown",
      "metadata": {
        "id": "C_9DBk6EpFEH"
      },
      "source": [
        "## `.animate` Syntax\n",
        "Alle bisherigen Methoden lassen sich mit der `animate` Methode animieren. Animationen werden dann mit `self.play()` kreiert."
      ]
    },
    {
      "cell_type": "code",
      "metadata": {
        "id": "t9UfKpckpiM-"
      },
      "source": [
        "%%manim -v WARNING --progress_bar None --disable_caching -ql AnimateExample\n",
        "\n",
        "config.media_width = \"50%\"\n",
        "\n",
        "class AnimateExample(Scene):\n",
        "    def construct(self):\n",
        "        s = Square()\n",
        "        self.add(s)\n",
        "        self.wait()\n",
        "        self.play(\n",
        "            s.animate.shift(5*RIGHT)\n",
        "        )\n",
        "        self.wait()"
      ],
      "execution_count": null,
      "outputs": []
    },
    {
      "cell_type": "code",
      "metadata": {
        "id": "FS7BplUOqXGO"
      },
      "source": [
        "%%manim -v WARNING --progress_bar None --disable_caching -ql AnimateExample2\n",
        "\n",
        "config.media_width = \"50%\"\n",
        "\n",
        "class AnimateExample2(Scene):\n",
        "    def construct(self):\n",
        "        s = Square()\n",
        "        self.add(s)\n",
        "        self.wait()\n",
        "        self.play(\n",
        "            s.animate.set_style(stroke_color=YELLOW)\n",
        "        )\n",
        "        self.wait()"
      ],
      "execution_count": null,
      "outputs": []
    },
    {
      "cell_type": "markdown",
      "metadata": {
        "id": "B9Dfs6orvazw"
      },
      "source": [
        "Methoden lassen sich auch stapeln."
      ]
    },
    {
      "cell_type": "code",
      "metadata": {
        "id": "cBTIyQgJv9GE"
      },
      "source": [
        "%%manim -v WARNING --progress_bar None --disable_caching -ql AnimateExample2\n",
        "\n",
        "config.media_width = \"50%\"\n",
        "\n",
        "class AnimateExample2(Scene):\n",
        "    def construct(self):\n",
        "        s = Star()\n",
        "        self.add(s)\n",
        "        self.wait()\n",
        "        self.play(\n",
        "            s.animate.to_edge(RIGHT).set_style(stroke_color=YELLOW)\n",
        "        )\n",
        "        self.wait()\n",
        "        self.play(\n",
        "            s.animate.to_edge(LEFT).set_style(fill_opacity=1, fill_color=YELLOW)\n",
        "        )\n",
        "        self.wait()\n",
        "        self.play(\n",
        "            s.animate.move_to(ORIGIN).set_style(stroke_color=[RED, BLUE], fill_color=[RED, BLUE])\n",
        "        )\n",
        "        self.wait()"
      ],
      "execution_count": null,
      "outputs": []
    },
    {
      "cell_type": "markdown",
      "metadata": {
        "id": "SHw4FZiiw1pM"
      },
      "source": [
        "## Individualisieren mit `rate_func`\n",
        "Eine Animation beruht auf einer Interpolation zwischen dem Startbild und dem Zielbild der Szene. Diese Interpolation kann durch eine `rate_func` angepasst werden. Beispielweise die Geschwindigkeit/Beschleunigung der Animation wird dabei festgelegt. Eine Auflistung findet sich [hier](https://docs.manim.community/en/stable/reference/manim.utils.rate_functions.html)."
      ]
    },
    {
      "cell_type": "code",
      "metadata": {
        "id": "OxAg05-9L12P"
      },
      "source": [
        "%%manim -v WARNING --progress_bar None --disable_caching -ql RateFuncExample\n",
        "\n",
        "config.media_width = \"50%\"\n",
        "\n",
        "class RateFuncExample(Scene):\n",
        "    def construct(self):\n",
        "        dots = VGroup(*[Dot() for _ in range(4)]).arrange(DOWN).to_edge(LEFT)\n",
        "        self.add(dots)\n",
        "        self.wait()\n",
        "        self.play(\n",
        "            dots[0].animate.to_edge(RIGHT),\n",
        "            dots[1].animate(rate_func=linear).to_edge(RIGHT),\n",
        "            dots[2].animate(rate_func=there_and_back).to_edge(RIGHT),\n",
        "            dots[3].animate(rate_func=wiggle).to_edge(RIGHT),\n",
        "            run_time=3\n",
        "        )\n",
        "        self.wait()\n"
      ],
      "execution_count": null,
      "outputs": []
    },
    {
      "cell_type": "markdown",
      "metadata": {
        "id": "PbYxG2OdEnrf"
      },
      "source": [
        "## Transformationen\n",
        "Häufig verwendete Werkzeuge in Manim sind die Transformationen. Sie erlauben beliebige Startobjekte in Zielobjekte zu trnsformieren. "
      ]
    },
    {
      "cell_type": "code",
      "metadata": {
        "id": "4OQXrxlKErXV"
      },
      "source": [
        "%%manim -v WARNING --progress_bar None --disable_caching -ql TransformExample\n",
        "\n",
        "config.media_width = \"50%\"\n",
        "\n",
        "class TransformExample(Scene):\n",
        "  def construct(self):\n",
        "    s = Square()\n",
        "    c = Circle()\n",
        "\n",
        "    self.add(s)\n",
        "    self.wait()\n",
        "    self.play(\n",
        "        Transform(s,c)\n",
        "    )\n",
        "    self.wait()"
      ],
      "execution_count": null,
      "outputs": []
    },
    {
      "cell_type": "markdown",
      "metadata": {
        "id": "SDwnhOFgfIui"
      },
      "source": [
        "Es lassen sich auch mehrere Objekte in Eins transformieren."
      ]
    },
    {
      "cell_type": "code",
      "metadata": {
        "id": "1TWRBBmofITx"
      },
      "source": [
        "%%manim -v WARNING --progress_bar None --disable_caching -ql TransformExample2\n",
        "\n",
        "config.media_width = \"50%\"\n",
        "\n",
        "class TransformExample2(Scene):\n",
        "    def construct(self):\n",
        "        s = Square()\n",
        "        c = Circle()\n",
        "        t = Triangle()\n",
        "\n",
        "        g = VGroup(s,t).arrange()\n",
        "\n",
        "        self.add(g)\n",
        "        self.wait()\n",
        "        self.play(\n",
        "            Transform(g,c)\n",
        "        )\n",
        "        self.wait()"
      ],
      "execution_count": null,
      "outputs": []
    },
    {
      "cell_type": "markdown",
      "metadata": {
        "id": "qO6e3g15g_3A"
      },
      "source": [
        "So lässt sich nun beispielsweise schon eine Szene generieren, welche die Konvergenz von regelmäßigen n-Ecken zu einem Kreis veranschaulicht."
      ]
    },
    {
      "cell_type": "code",
      "metadata": {
        "id": "fyyUQwVpf44A"
      },
      "source": [
        "%%manim -v WARNING --progress_bar None --disable_caching -ql TransformExample3\n",
        "\n",
        "config.media_width = \"50%\"\n",
        "\n",
        "class TransformExample3(Scene):\n",
        "    def construct(self):\n",
        "        s = RegularPolygon(4).scale(3)\n",
        "        self.add(s)\n",
        "        self.wait()\n",
        "\n",
        "        for k in range(5,15):\n",
        "            p = RegularPolygon(k).scale(3)\n",
        "            self.play(\n",
        "                TransformFromCopy(s,p)\n",
        "            )\n",
        "            self.wait()"
      ],
      "execution_count": null,
      "outputs": []
    },
    {
      "cell_type": "markdown",
      "metadata": {
        "id": "KViTArdXh8dT"
      },
      "source": [
        "Nützlich sind in diesem Zusammenhang auch die Klassen `TransformFromCopy` und `ReplacementTransform`. Ersteres lässt eine Kopie des Startobjektes stehen und zweiteres ersetzt das Startobjekt gänzlich mit dem Zielobjekt. "
      ]
    },
    {
      "cell_type": "code",
      "metadata": {
        "id": "i_p5mPlMihj6"
      },
      "source": [
        "%%manim -v WARNING --progress_bar None --disable_caching -ql TransformExample4\n",
        "\n",
        "config.media_width = \"50%\"\n",
        "\n",
        "class TransformExample4(Scene):\n",
        "    def construct(self):\n",
        "        l1 = Line([-7,0,0],[-1,0,0])\n",
        "        l2 = Line([1,-4,0],[1,4,0]).set_color(YELLOW)\n",
        "        l3 = Line([4,-4,0],[4,4,0]).set_color([GREEN, BLUE])\n",
        "\n",
        "        self.add(l1)\n",
        "        self.wait()\n",
        "\n",
        "        self.play(\n",
        "            TransformFromCopy(l1,l2)\n",
        "        )\n",
        "        self.wait()\n",
        "        self.play(\n",
        "            TransformFromCopy(l1,l3)\n",
        "        )\n",
        "        self.wait()"
      ],
      "execution_count": null,
      "outputs": []
    },
    {
      "cell_type": "code",
      "metadata": {
        "id": "fwdnWnVOkDjL"
      },
      "source": [
        "%%manim -v WARNING --progress_bar None --disable_caching -ql TransformExample5\n",
        "\n",
        "#config.media_width = \"50%\"\n",
        "\n",
        "class TransformExample5(Scene):\n",
        "    def construct(self):\n",
        "        dots = VGroup(*[Dot() for _ in range(6)]).arrange_in_grid(buff=3)\n",
        "        dots[1].scale(3).set_color(BLUE)\n",
        "        dots[4].scale(3).set_color(BLUE)\n",
        "        dots[2].scale(6).set_color(GREEN)\n",
        "        dots[5].scale(6).set_color(GREEN)\n",
        "        self.add(dots)\n",
        "        self.wait()\n",
        "\n",
        "        self.play(\n",
        "            Transform(dots[0], dots[1]),\n",
        "            ReplacementTransform(dots[3],dots[4])\n",
        "        )\n",
        "        self.wait()\n",
        "\n",
        "        self.play(\n",
        "            Transform(dots[1], dots[2]),\n",
        "            ReplacementTransform(dots[4],dots[5])\n",
        "        )\n",
        "        self.wait()"
      ],
      "execution_count": null,
      "outputs": []
    },
    {
      "cell_type": "markdown",
      "metadata": {
        "id": "Fh6lNdoBmBDk"
      },
      "source": [
        "## Aufgabe 5 - Nochmal Nachmachen!\n",
        "Klicke auf das Bild unterhalb und versuche dieses Video zu coden! \n",
        "\n",
        "[![Everything Is AWESOME](https://img.youtube.com/vi/DhhLn0GhUdE/0.jpg)](https://youtu.be/DhhLn0GhUdE \"Aufgabe 5\")\n",
        "\n"
      ]
    }
  ]
}
