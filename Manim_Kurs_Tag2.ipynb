{
  "nbformat": 4,
  "nbformat_minor": 0,
  "metadata": {
    "colab": {
      "name": "Manim_Kurs_Tag2.ipynb",
      "provenance": [],
      "collapsed_sections": [],
      "toc_visible": true,
      "authorship_tag": "ABX9TyMvrEG0o2pRbqSPPMIfmvLW",
      "include_colab_link": true
    },
    "kernelspec": {
      "name": "python3",
      "display_name": "Python 3"
    },
    "language_info": {
      "name": "python"
    }
  },
  "cells": [
    {
      "cell_type": "markdown",
      "metadata": {
        "id": "view-in-github",
        "colab_type": "text"
      },
      "source": [
        "<a href=\"https://colab.research.google.com/github/PhotonSpheres/manim_kurs/blob/main/Manim_Kurs_Tag2.ipynb\" target=\"_parent\"><img src=\"https://colab.research.google.com/assets/colab-badge.svg\" alt=\"Open In Colab\"/></a>"
      ]
    },
    {
      "cell_type": "markdown",
      "metadata": {
        "id": "5hreHfqQeoE0"
      },
      "source": [
        "# Zweite Schritte in Manim!\n",
        "Nachdem wir gestern einige Grundkonzepte kennen lernen durften werden wir heute unser Wissen ein wenig vertiefen. Speziell werden wir über Text, Formeln und Graphen sprechen! \n",
        "\n",
        "Zunächst müssen wir aber auch hier wieder Manim installieren. Siehe dazu die Anleitung von gestern.\n",
        "\n",
        ">*Hinweis*: Manchmal lohnt es sich, komplett $\\LaTeX$ zu installieren. Ändere dazu die zweite Zeile in der nächsten Zelle zu\n",
        ">```python\n",
        ">!sudo apt install libcairo2-dev ffmpeg texlive-full tipa libpango1.0-dev\n",
        ">```\n",
        ">Das benötig allerdings mehr Zeit.\n"
      ]
    },
    {
      "cell_type": "code",
      "metadata": {
        "id": "HQBkksMyhA90"
      },
      "source": [
        "!sudo apt update\n",
        "!sudo apt install libcairo2-dev ffmpeg texlive texlive-latex-extra texlive-fonts-extra texlive-latex-recommended texlive-science tipa libpango1.0-dev\n",
        "!pip install manim\n",
        "!pip install IPython --upgrade"
      ],
      "execution_count": null,
      "outputs": []
    },
    {
      "cell_type": "code",
      "metadata": {
        "id": "8fXOXxGwh9uz",
        "colab": {
          "base_uri": "https://localhost:8080/",
          "height": 49
        },
        "outputId": "c0d6b18b-6c3c-4dd2-9436-9b1d57d73ad8"
      },
      "source": [
        "from manim import *"
      ],
      "execution_count": null,
      "outputs": [
        {
          "output_type": "display_data",
          "data": {
            "text/html": [
              "<pre style=\"white-space:pre;overflow-x:auto;line-height:normal;font-family:Menlo,'DejaVu Sans Mono',consolas,'Courier New',monospace\">Manim Community <span style=\"color: #008000; text-decoration-color: #008000\">v0.11.0</span>\n",
              "\n",
              "</pre>\n"
            ],
            "text/plain": [
              "Manim Community \u001b[32mv0.\u001b[0m\u001b[32m11.0\u001b[0m\n",
              "\n"
            ]
          },
          "metadata": {}
        }
      ]
    },
    {
      "cell_type": "markdown",
      "metadata": {
        "id": "9nxlekNqfDGW"
      },
      "source": [
        "# Text, $\\LaTeX$, und Formeln\n",
        "Einfacher Text sollte über die Klassen `Text`, `Paragraph` oder `MarkupText`geschrieben werden. Diese sind weniger aufwedig als die $\\LaTeX$ alternativen `Tex` und `MathTex`. Ersteres ist dabei eine simples $\\LaTeX$ Dokument während zweiteres eine `align` Umgebung darstellt. Schauen wir uns zuerst normalen `Text` an."
      ]
    },
    {
      "cell_type": "markdown",
      "metadata": {
        "id": "Y_o68EKRgtK2"
      },
      "source": [
        "## Text"
      ]
    },
    {
      "cell_type": "markdown",
      "metadata": {
        "id": "CMTqzcYH7_gd"
      },
      "source": [
        "Die Klasse `Text` nimmt einen String als Input. Die Zeichenkette im String wird dann gedruckt."
      ]
    },
    {
      "cell_type": "code",
      "metadata": {
        "id": "sZk9hWn3iDDa"
      },
      "source": [
        "%%manim -v WARNING  --progress_bar None  --disable_caching -ql HelloWorld\n",
        "\n",
        "config.media_width = \"50%\"\n",
        "\n",
        "class HelloWorld(Scene):\n",
        "    def construct(self):\n",
        "        text = Text(\"Hello world\").scale(3)\n",
        "        self.add(text)\n",
        "        self.wait()"
      ],
      "execution_count": null,
      "outputs": []
    },
    {
      "cell_type": "markdown",
      "metadata": {
        "id": "E5y_hu0yi6nC"
      },
      "source": [
        "Um eine andere Schriftwart zu wählen sollten wir schauen welche uns denn zur Verfügung stehen."
      ]
    },
    {
      "cell_type": "code",
      "metadata": {
        "id": "Nxp9rlBBialp"
      },
      "source": [
        "import manimpango\n",
        "manimpango.list_fonts()"
      ],
      "execution_count": null,
      "outputs": []
    },
    {
      "cell_type": "markdown",
      "metadata": {
        "id": "nkEE7v6h8b2N"
      },
      "source": [
        "Die Schriftart lässt sich dann als String über den Parameter `font` setzen."
      ]
    },
    {
      "cell_type": "code",
      "metadata": {
        "id": "6LFYf0qBi2Dn"
      },
      "source": [
        "%%manim -v WARNING --progress_bar None --disable_caching -ql FontsExample\n",
        "\n",
        "config.media_width = \"50%\"\n",
        "\n",
        "class FontsExample(Scene):\n",
        "    def construct(self):\n",
        "        ft = Text(\"Noto Sans\", font=\"Noto Sans\")\n",
        "        st = Text(\"Humor Sans\", font=\"Humor Sans\")\n",
        "        ti = Text(\"Tinos\", font=\"Tinos\")\n",
        "        g = VGroup(ft, st, ti).arrange(direction=UP, buff=1)\n",
        "        self.add(g)\n",
        "        self.wait()"
      ],
      "execution_count": null,
      "outputs": []
    },
    {
      "cell_type": "markdown",
      "metadata": {
        "id": "fMDqWn46kS10"
      },
      "source": [
        "Natürlich gibt es auch Möglichkeiten für kursive und dicke Schrift, z.B. über die Parameter `slant` oder `weight`."
      ]
    },
    {
      "cell_type": "code",
      "metadata": {
        "id": "7MCaGXbHkSim"
      },
      "source": [
        "%%manim -v WARNING  --progress_bar None  --disable_caching -ql SlantsBoldExample\n",
        "\n",
        "config.media_width = \"50%\"\n",
        "\n",
        "class SlantsBoldExample(Scene):\n",
        "    def construct(self):\n",
        "        a = Text(\"Italic\", slant=ITALIC)\n",
        "        b = Text(\"Bold\", weight=BOLD)\n",
        "        g = VGroup(a,b).arrange(UP, buff=1)\n",
        "        self.add(g)\n",
        "        self.wait()"
      ],
      "execution_count": null,
      "outputs": []
    },
    {
      "cell_type": "markdown",
      "metadata": {
        "id": "rqzVs7twj_UP"
      },
      "source": [
        "## Aufgabe - Versuche einige Schriftarten aus!"
      ]
    },
    {
      "cell_type": "code",
      "metadata": {
        "id": "Vh1bJlqvj--f"
      },
      "source": [
        ""
      ],
      "execution_count": null,
      "outputs": []
    },
    {
      "cell_type": "markdown",
      "metadata": {
        "id": "Ww8l0YkPk-zV"
      },
      "source": [
        "## Farben, Zeilenumbruch und Erscheinen\n",
        "Nun schauen wir uns mal die Farben an. Auch `Text` hat einen Parameter `color`."
      ]
    },
    {
      "cell_type": "code",
      "metadata": {
        "id": "hTNJD8YElFoz"
      },
      "source": [
        "%%manim -v WARNING --progress_bar None --disable_caching -ql SimpleColor\n",
        "\n",
        "config.media_width = \"50%\"\n",
        "\n",
        "class SimpleColor(Scene):\n",
        "    def construct(self):\n",
        "        col = Text(\"RED COLOR\", color=RED)\n",
        "        self.add(col)\n",
        "        self.wait()"
      ],
      "execution_count": null,
      "outputs": []
    },
    {
      "cell_type": "markdown",
      "metadata": {
        "id": "BlbtAy0el1Mb"
      },
      "source": [
        "Es gibt ein Parameter `t2c` (_text to color_), welcher erlaubt bestimmte Buchstaben einzufärben. Dieser Parameter akzeptiert zwei Arten von dictionaries\n",
        "\n",
        "*   Slicing: Ein Index wie `[2:-1]` oder `[5:8]`\n",
        "*   String mit dem Zeichenkette welche gefärbt werden soll.\n",
        "\n",
        "In beiden Fällen muss das dictionary eine Farbe ausgeben.\n",
        "\n"
      ]
    },
    {
      "cell_type": "code",
      "metadata": {
        "id": "TuFLWm91m0d5"
      },
      "source": [
        "%%manim -v WARNING  --progress_bar None  --disable_caching -ql Textt2cExample\n",
        "\n",
        "config.media_width = \"50%\"\n",
        "\n",
        "class Textt2cExample(Scene):\n",
        "    def construct(self):\n",
        "        t2cindices = Text('Hello', t2c={'[1:-1]': BLUE, '[0:1]':GREEN}).move_to(LEFT)\n",
        "        t2cwords = Text('World',t2c={'rl':RED}).next_to(t2cindices, RIGHT)\n",
        "        self.add(t2cindices, t2cwords)"
      ],
      "execution_count": null,
      "outputs": []
    },
    {
      "cell_type": "markdown",
      "metadata": {
        "id": "cdIVZroXm9SB"
      },
      "source": [
        "Man kann den Text auch mittels `gradient` färben. Dazu gibt es auch einen Parameter `t2g`, analog zu `t2c`."
      ]
    },
    {
      "cell_type": "code",
      "metadata": {
        "id": "vC58sCmjnM80"
      },
      "source": [
        "%%manim -v WARNING  --progress_bar None  --disable_caching -ql GradientExample\n",
        "\n",
        "config.media_width = \"50%\"\n",
        "\n",
        "class GradientExample(Scene):\n",
        "    def construct(self):\n",
        "        t = Text(\"Hello\", gradient=(RED, BLUE, GREEN)).scale(2)\n",
        "        s = Square().next_to(t, DOWN, buff=1)\n",
        "        s.set_style(fill_color=[RED,BLUE,GREEN], fill_opacity=1)\n",
        "        self.add(t, s)"
      ],
      "execution_count": null,
      "outputs": []
    },
    {
      "cell_type": "code",
      "metadata": {
        "id": "d3cL54NUnh4a"
      },
      "source": [
        "%%manim -v WARNING  --progress_bar None  --disable_caching -ql t2gExample\n",
        "\n",
        "config.media_width = \"50%\"\n",
        "\n",
        "class t2gExample(Scene):\n",
        "    def construct(self):\n",
        "        t2gindices = Text(\n",
        "            'Hello',\n",
        "            t2g={\n",
        "                '[1:-1]': (RED,GREEN),\n",
        "            },\n",
        "        ).move_to(LEFT)\n",
        "        t2gwords = Text(\n",
        "            'World',\n",
        "            t2g={\n",
        "                'World':(RED,BLUE),\n",
        "            },\n",
        "        ).next_to(t2gindices, RIGHT)\n",
        "        self.add(t2gindices, t2gwords)"
      ],
      "execution_count": null,
      "outputs": []
    },
    {
      "cell_type": "markdown",
      "metadata": {
        "id": "XZ0detjlnhoP"
      },
      "source": [
        "Der Befel `\\n` forciert einen Zeilenumbruch. Der Abstand kann dann mit `line_spacing` gesetzt werden."
      ]
    },
    {
      "cell_type": "code",
      "metadata": {
        "id": "QTCWMMS7oAp4"
      },
      "source": [
        "%%manim -v WARNING --progress_bar None --disable_caching -ql LineSpacing\n",
        "\n",
        "config.media_width = \"50%\"\n",
        "\n",
        "class LineSpacing(Scene):\n",
        "    def construct(self):\n",
        "        a = Text(\"Hello\\nWorld\", line_spacing=1)\n",
        "        b = Text(\"Hello\\nWorld\", line_spacing=4)\n",
        "        self.add(VGroup(a,b).arrange(LEFT, buff=5))"
      ],
      "execution_count": null,
      "outputs": []
    },
    {
      "cell_type": "markdown",
      "metadata": {
        "id": "9ikwr5VUoIa8"
      },
      "source": [
        ">Hinweis: Manchmal ist es hilfreich ligaturen auszuschalten da diese Probleme beim Färben oder Slicen machen können. Verwende dazu `disable_ligatures`."
      ]
    },
    {
      "cell_type": "code",
      "metadata": {
        "id": "OdvUAK_aoH2-"
      },
      "source": [
        "%%manim -v WARNING  --progress_bar None  --disable_caching -ql DisableLigature\n",
        "\n",
        "config.media_width = \"50%\"\n",
        "\n",
        "class DisableLigature(Scene):\n",
        "    def construct(self):\n",
        "        li = Text(\"fl ligature\").scale(2)\n",
        "        nli = Text(\"fl ligature\", disable_ligatures=True).scale(2)\n",
        "        self.add(Group(li, nli).arrange(DOWN, buff=.8))"
      ],
      "execution_count": null,
      "outputs": []
    },
    {
      "cell_type": "markdown",
      "metadata": {
        "id": "N6DbKX4Rok2G"
      },
      "source": [
        "Über Text Objekte kann ebenfalls iteriert werden (siehe Listen)."
      ]
    },
    {
      "cell_type": "code",
      "metadata": {
        "id": "tqke6FmNowHH"
      },
      "source": [
        "%%manim -v WARNING  --progress_bar None  --disable_caching -ql IterateColor\n",
        "\n",
        "config.media_width = \"50%\"\n",
        "\n",
        "class IterateColor(Scene):\n",
        "    def construct(self):\n",
        "        text = Text(\"Colors\").scale(2)\n",
        "        for letter in text:\n",
        "            letter.set_color(random_bright_color())\n",
        "        self.add(text)"
      ],
      "execution_count": null,
      "outputs": []
    },
    {
      "cell_type": "markdown",
      "metadata": {
        "id": "hSByAshepJ5b"
      },
      "source": [
        "Zuletzt schauen wir uns noch die gängiste Methode an um Text erscheinen zu lassen, die Klasse `Write`."
      ]
    },
    {
      "cell_type": "code",
      "metadata": {
        "id": "-vW1NwAMpI0Y"
      },
      "source": [
        "%%manim -v WARNING  --progress_bar None  --disable_caching -ql HelloWorld\n",
        "\n",
        "config.media_width = \"50%\"\n",
        "\n",
        "class HelloWorld(Scene):\n",
        "    def construct(self):\n",
        "        text = Text(\"Hello world\").scale(3)\n",
        "        self.play(\n",
        "            Write(text),\n",
        "        )\n",
        "        self.wait()"
      ],
      "execution_count": null,
      "outputs": []
    },
    {
      "cell_type": "markdown",
      "metadata": {
        "id": "OHOLySBqpAbC"
      },
      "source": [
        "## Aufgabe - Spiele ein Wenig mit Text herum\n",
        "Versuche dabei auch `Write` zu verwenden. Vielleicht auch die `run_time` zu verlängern oder verkürzen. Auch längere Texte können interessant sein. Informier Dich auch über die `Paragraph` Klasse in der Dokumentation!"
      ]
    },
    {
      "cell_type": "code",
      "metadata": {
        "id": "Z5WdgcPSp6kH"
      },
      "source": [
        ""
      ],
      "execution_count": null,
      "outputs": []
    },
    {
      "cell_type": "markdown",
      "metadata": {
        "id": "QlOWt45dp5dr"
      },
      "source": [
        "## $\\LaTeX$\n",
        "Der $\\LaTeX$ Befehl `Tex` funktioniert ganz ähnlich wie `Text`. Oftmals wird hier allerding ein _raw string_ verwendet, gekennzeichnit durch `r\"...\"`. Dadurch enstehen weniger Probleme mit Dingen wie `\\` oder `\\\\`, welche in $\\LaTeX$ häufig vorkommen in Python aber eine andere Bedeutung haben können."
      ]
    },
    {
      "cell_type": "code",
      "metadata": {
        "id": "w3lrdwcAqTql"
      },
      "source": [
        "%%manim -v WARNING  --progress_bar None  --disable_caching -ql HelloLaTeX\n",
        "\n",
        "config.media_width = \"50%\"\n",
        "\n",
        "class HelloLaTeX(Scene):\n",
        "    def construct(self):\n",
        "        tex = Tex(r\"Hello \\LaTeX\").scale(3)\n",
        "        self.add(tex)"
      ],
      "execution_count": null,
      "outputs": []
    },
    {
      "cell_type": "markdown",
      "metadata": {
        "id": "wNCQFyy1qTNk"
      },
      "source": [
        "Wie bereits angekündigt ist `MathTex` die Matheumgebung `align`."
      ]
    },
    {
      "cell_type": "code",
      "metadata": {
        "id": "qXHpNDbx_e7F"
      },
      "source": [
        "%%manim -v WARNING --progress_bar None  --disable_caching -ql MathTeXDemo\n",
        "\n",
        "config.media_width = \"50%\"\n",
        "\n",
        "class MathTeXDemo(Scene):\n",
        "    def construct(self):\n",
        "        gauss = MathTex(r\"\\sqrt{\\pi}=\\int_{\\mathbb{R}}e^{-x^2}\\, \\mathrm{d}x\").scale(2)\n",
        "\n",
        "        self.add(gauss)"
      ],
      "execution_count": null,
      "outputs": []
    },
    {
      "cell_type": "markdown",
      "metadata": {
        "id": "7vjUm8YX_0GP"
      },
      "source": [
        "`align` macht es uns möglich, Gleichungen schön untereinander auszurichten."
      ]
    },
    {
      "cell_type": "code",
      "metadata": {
        "id": "Zq65kvLdrP46"
      },
      "source": [
        "%%manim -v WARNING --progress_bar None  --disable_caching -ql MathTeXDemo2\n",
        "\n",
        "config.media_width = \"50%\"\n",
        "\n",
        "class MathTeXDemo2(Scene):\n",
        "    def construct(self):\n",
        "        system = MathTex(r\"x+y&=2 \\\\ 2x+3y&=5\").scale(2)\n",
        "\n",
        "        self.add(system)"
      ],
      "execution_count": null,
      "outputs": []
    },
    {
      "cell_type": "code",
      "metadata": {
        "id": "YMOmWD52umos"
      },
      "source": [
        "%%manim -v WARNING  --progress_bar None  --disable_caching -ql LaTeXAlignEnvironment\n",
        "\n",
        "config.media_width = \"50%\"\n",
        "\n",
        "class LaTeXAlignEnvironment(Scene):\n",
        "    def construct(self):\n",
        "        tex = MathTex(\n",
        "            r\"\"\"f(x) &= 3 + 2 + 1 \\\\ \n",
        "            &= 5 + 1 \\\\ \n",
        "            &= 6\"\"\"\n",
        "        ).scale(2)\n",
        "        self.add(tex)"
      ],
      "execution_count": null,
      "outputs": []
    },
    {
      "cell_type": "markdown",
      "metadata": {
        "id": "6YfAXxWMrkQt"
      },
      "source": [
        "Alle Standardbefehle aus dem `AMS Math Package` stehen zur Verfügung."
      ]
    },
    {
      "cell_type": "code",
      "metadata": {
        "id": "vRb452tkrlNS"
      },
      "source": [
        "%%manim -v WARNING  --progress_bar None  --disable_caching -ql AMSLaTeX\n",
        "\n",
        "config.media_width = \"50%\"\n",
        "\n",
        "class AMSLaTeX(Scene):\n",
        "    def construct(self):\n",
        "        tex = Tex(r'$\\mathtt{H} \\looparrowright$ \\LaTeX').scale(3)\n",
        "        self.add(tex)"
      ],
      "execution_count": null,
      "outputs": []
    },
    {
      "cell_type": "markdown",
      "metadata": {
        "id": "-7towDBMrvDE"
      },
      "source": [
        "Es lassen sich natürlich auch extra Packages laden. Dazu müssen diese der Präambel mittels `add_to_preamble` zu einem `TexTemplate` hinzugefügt werden."
      ]
    },
    {
      "cell_type": "code",
      "metadata": {
        "id": "tkpMvCSlruxZ"
      },
      "source": [
        "%%manim -v WARNING  --progress_bar None  --disable_caching -ql AddPackageLatex\n",
        "\n",
        "config.media_width = \"50%\"\n",
        "\n",
        "class AddPackageLatex(Scene):\n",
        "    def construct(self):\n",
        "        myTemplate = TexTemplate()\n",
        "        myTemplate.add_to_preamble(r\"\\usepackage{mathrsfs}\")\n",
        "        tex = Tex(r'$\\mathscr{H} \\rightarrow \\mathbb{H}$}', tex_template=myTemplate).scale(3)\n",
        "        self.add(tex)"
      ],
      "execution_count": null,
      "outputs": []
    },
    {
      "cell_type": "markdown",
      "metadata": {
        "id": "LoEF63t4sJBp"
      },
      "source": [
        "## Aufgabe - Formeln\n",
        "Schreibe deine Lieblingsformel hier in Manim! Wenn Du keine Erfahrung mit $\\LaTeX$ hast hilft vielleicht dieser Link: [Formel-Editor](https://latex.codecogs.com/eqneditor/editor.php)"
      ]
    },
    {
      "cell_type": "code",
      "metadata": {
        "id": "ejdSFfJisb_C"
      },
      "source": [
        ""
      ],
      "execution_count": null,
      "outputs": []
    },
    {
      "cell_type": "markdown",
      "metadata": {
        "id": "fq46re6escZl"
      },
      "source": [
        "Die Klasse `Tex` kann mehrere Strings als Input akzeptieren. Mit der Methode `set_color_by_tex` können diese dann gefärbt werden."
      ]
    },
    {
      "cell_type": "code",
      "metadata": {
        "id": "y5mDLpZgs4_w"
      },
      "source": [
        "%%manim -v WARNING  --progress_bar None  --disable_caching -ql LaTeXSubstrings\n",
        "\n",
        "config.media_width = \"50%\"\n",
        "\n",
        "class LaTeXSubstrings(Scene):\n",
        "    def construct(self):\n",
        "        tex = Tex('Hello', r'$\\bigstar$', r'\\LaTeX').scale(3)\n",
        "        tex.set_color_by_tex('igsta', RED)\n",
        "        self.add(tex)"
      ],
      "execution_count": null,
      "outputs": []
    },
    {
      "cell_type": "markdown",
      "metadata": {
        "id": "Ahu685ujtBq7"
      },
      "source": [
        "Aber Achtung, `set_color_by_tex` färbt den gesamten String in dem die angegebene Zeichenkette liegt!"
      ]
    },
    {
      "cell_type": "code",
      "metadata": {
        "id": "8xyH7FYDtPN2"
      },
      "source": [
        "%%manim -v WARNING  --progress_bar None  --disable_caching -ql IncorrectLaTeXSubstringColoring\n",
        "\n",
        "config.media_width = \"50%\"\n",
        "\n",
        "class IncorrectLaTeXSubstringColoring(Scene):\n",
        "    def construct(self):\n",
        "        equation = MathTex(\n",
        "            r\"e^x = x^0 + x^1 + \\frac{1}{2} x^2 + \\frac{1}{6} x^3 + \\cdots + \\frac{1}{n!} x^n + \\cdots\"\n",
        "        )\n",
        "        equation.set_color_by_tex(\"x\", YELLOW)\n",
        "        self.add(equation)"
      ],
      "execution_count": null,
      "outputs": []
    },
    {
      "cell_type": "markdown",
      "metadata": {
        "id": "_x5of1YgtWs8"
      },
      "source": [
        "Korrekt ist hier die Varibale `x` zunächst zu isolieren und dann zu färben. Dies geht mit `substrings_to_isolate` direkt in der `MathTex` Klasse."
      ]
    },
    {
      "cell_type": "code",
      "metadata": {
        "id": "JxdAGPNgtete"
      },
      "source": [
        "%%manim -v WARNING  --progress_bar None  --disable_caching -ql CorrectLaTeXSubstringColoring\n",
        "\n",
        "config.media_width = \"50%\"\n",
        "\n",
        "class CorrectLaTeXSubstringColoring(Scene):\n",
        "    def construct(self):\n",
        "        equation = MathTex(\n",
        "            r\"e^x = x^0 + x^1 + \\frac{1}{2} x^2 + \\frac{1}{6} x^3 + \\cdots + \\frac{1}{n!} x^n + \\cdots\",\n",
        "            substrings_to_isolate=\"x\"\n",
        "        )\n",
        "        equation.set_color_by_tex(\"x\", YELLOW)\n",
        "        self.add(equation)"
      ],
      "execution_count": null,
      "outputs": []
    },
    {
      "cell_type": "markdown",
      "metadata": {
        "id": "RT-MRql-w1TX"
      },
      "source": [
        "Natürlich können wir Text und $\\LaTeX$ Objekte auch mit anderen Objekten aus Manim verknüpfen. "
      ]
    },
    {
      "cell_type": "code",
      "metadata": {
        "id": "YjMNFqw4xA9M"
      },
      "source": [
        "%%manim -v WARNING  --progress_bar None  --disable_caching -ql MovingFrameBox\n",
        "\n",
        "config.media_width = \"50%\"\n",
        "\n",
        "class MovingFrameBox(Scene):\n",
        "    def construct(self):\n",
        "        text=MathTex(\n",
        "            \"\\\\frac{d}{dx}f(x)g(x)=\",\"f(x)\\\\frac{d}{dx}g(x)\",\"+\",\n",
        "            \"g(x)\\\\frac{d}{dx}f(x)\"\n",
        "        )\n",
        "        self.play(Write(text))\n",
        "        framebox1 = SurroundingRectangle(text[1], buff = .1)\n",
        "        framebox2 = SurroundingRectangle(text[3], buff = .1)\n",
        "        self.play(\n",
        "            Create(framebox1),\n",
        "        )\n",
        "        self.wait()\n",
        "        self.play(\n",
        "            ReplacementTransform(framebox1,framebox2),\n",
        "        )\n",
        "        self.wait()\n",
        "        self.play(\n",
        "            FadeOut(framebox2)\n",
        "        )\n",
        "        self.wait()"
      ],
      "execution_count": null,
      "outputs": []
    },
    {
      "cell_type": "markdown",
      "metadata": {
        "id": "6ngX4OHMtxzP"
      },
      "source": [
        "Die Schriftart in $\\LaTeX$ zu wechseln ist ein bisschen schwieriger. Man wechselt das Template mittels `TexFontTemplate`."
      ]
    },
    {
      "cell_type": "code",
      "metadata": {
        "id": "YotlKw27uH8T"
      },
      "source": [
        "%%manim -v WARNING  --progress_bar None  --disable_caching -ql LaTeXMathFonts\n",
        "\n",
        "config.media_width = \"50%\"\n",
        "\n",
        "class LaTeXMathFonts(Scene):\n",
        "    def construct(self):\n",
        "        tex = Tex(r'$x^2 + y^2 = z^2$', tex_template=TexFontTemplates.french_cursive).scale(3)\n",
        "        self.add(tex)"
      ],
      "execution_count": null,
      "outputs": []
    },
    {
      "cell_type": "markdown",
      "metadata": {
        "id": "wdfbVxJIvbz2"
      },
      "source": [
        "Nun überlegen wir wie man Formeln ineinader transformieren kann. Der Beste Befehl dafür ist wohl `TransformMatchingTex`."
      ]
    },
    {
      "cell_type": "code",
      "metadata": {
        "id": "MLjMXScBvyim"
      },
      "source": [
        "%%manim -v WARNING  --progress_bar None  --disable_caching -ql MatchingEquationParts\n",
        "\n",
        "config.media_width = \"50%\"\n",
        "\n",
        "class MatchingEquationParts(Scene):\n",
        "    def construct(self):\n",
        "        eq1 = MathTex(\"{{a^2}} + {{b^2}} = {{c^2}}\")\n",
        "        eq2 = MathTex(\"{{a^2}} = {{c^2}} - {{b^2}}\")\n",
        "        self.add(eq1)\n",
        "        self.wait(0.5)\n",
        "        self.play(TransformMatchingTex(eq1, eq2))\n",
        "        self.wait(0.5)"
      ],
      "execution_count": null,
      "outputs": []
    },
    {
      "cell_type": "markdown",
      "metadata": {
        "id": "3uRQ-a0ewOc6"
      },
      "source": [
        "Mit dem Parameter `path_arc` lässt sich der Weg anders darstellen."
      ]
    },
    {
      "cell_type": "code",
      "metadata": {
        "id": "anydhCgwwZ20"
      },
      "source": [
        "%%manim -v WARNING  --progress_bar None  --disable_caching -ql MatchingEquationParts\n",
        "\n",
        "config.media_width = \"50%\"\n",
        "\n",
        "class MatchingEquationParts(Scene):\n",
        "    def construct(self):\n",
        "        eq1 = MathTex(\"{{a^2}} + {{b^2}} = {{c^2}}\")\n",
        "        eq2 = MathTex(\"{{a^2}} = {{c^2}} - {{b^2}}\")\n",
        "        self.add(eq1)\n",
        "        self.wait(0.5)\n",
        "        self.play(TransformMatchingTex(eq1, eq2, path_arc=PI/2))\n",
        "        self.wait(0.5)"
      ],
      "execution_count": null,
      "outputs": []
    },
    {
      "cell_type": "markdown",
      "metadata": {
        "id": "alGGsW82DN2X"
      },
      "source": [
        "Sollte `TransformMatchingTex` mal nicht funktionieren, so ist es hilfreich eine Formel komplett in ihre Einzelteile aufzuteilen. Man kann dann auf die einzelnen Komponenten zugreifen."
      ]
    },
    {
      "cell_type": "code",
      "metadata": {
        "id": "puUlxLx9zL89"
      },
      "source": [
        "%%manim -v WARNING  --progress_bar None  --disable_caching -ql FormulaExample\n",
        "\n",
        "config.media_width = \"50%\"\n",
        "\n",
        "class FormulaExample(Scene):\n",
        "    def construct(self):\n",
        "        eq1 = MathTex(\n",
        "            r\"\\frac{d}{dx}\", # 0\n",
        "            r\"(\",            # 1\n",
        "            r\"u\",            # 2\n",
        "            r\"+\",            # 3\n",
        "            r\"v\",            # 4\n",
        "            r\")\",            # 5\n",
        "            r\"=\",            # 6\n",
        "            r\"\\frac{d}{dx}\", # 7\n",
        "            r\"u\",            # 8    \n",
        "            r\"+\",            # 9\n",
        "            r\"\\frac{d}{dx}\", # 10\n",
        "            r\"v\",            # 11\n",
        "        ).scale(2)\n",
        "        self.play(\n",
        "            Write(eq1[0:7])\n",
        "        )\n",
        "        self.wait()\n",
        "        self.play(\n",
        "            ReplacementTransform(eq1[2].copy(), eq1[8]),\n",
        "            ReplacementTransform(eq1[3].copy(), eq1[9]),\n",
        "            ReplacementTransform(eq1[4].copy(), eq1[11])\n",
        "        )\n",
        "        self.wait()\n",
        "        self.play(\n",
        "            ReplacementTransform(eq1[0].copy(), eq1[7]),\n",
        "            ReplacementTransform(eq1[0].copy(), eq1[10])\n",
        "        )\n",
        "        self.wait()\n"
      ],
      "execution_count": null,
      "outputs": []
    },
    {
      "cell_type": "markdown",
      "metadata": {
        "id": "eohnlukU1Ri7"
      },
      "source": [
        "## Aufgabe - Umformungen\n",
        "Versuchen Äquivialenzumformungen zu animieren!"
      ]
    },
    {
      "cell_type": "code",
      "metadata": {
        "id": "quaWWrUBDHAF"
      },
      "source": [
        ""
      ],
      "execution_count": null,
      "outputs": []
    },
    {
      "cell_type": "markdown",
      "metadata": {
        "id": "dd1YKdljvBpR"
      },
      "source": [
        "# Graphen und Koordinatensysteme\n",
        "Grundstäzlich sind die hilfreichen Klassen hier `Axes`, `NumberPlane`, `PolarPlane` und `ComplexPlane`. "
      ]
    },
    {
      "cell_type": "code",
      "metadata": {
        "id": "0AAXMeDOB7ay"
      },
      "source": [
        "%%manim -v WARNING  --progress_bar None  --disable_caching -ql AxesExample\n",
        "\n",
        "config.media_width = \"50%\"\n",
        "\n",
        "class AxesExample(Scene):\n",
        "    def construct(self):\n",
        "      # n = NumberPlane()\n",
        "      ax = Axes(\n",
        "          x_range = [-8,8],\n",
        "          y_range = [-4,4],\n",
        "          x_length = 14,\n",
        "          y_length = 7,\n",
        "          tips = True\n",
        "      )\n",
        "      ax.add_coordinates()\n",
        "      parabel = ax.get_graph(\n",
        "          lambda x: x**2,\n",
        "          x_range = [-2,2],\n",
        "          color = RED\n",
        "      )\n",
        "      self.play(\n",
        "          Create(ax)\n",
        "      )\n",
        "      self.wait(0.5)\n",
        "      self.play(\n",
        "          Create(parabel)\n",
        "      )\n",
        "      self.wait()\n",
        "      parabel_prime = ax.get_graph(\n",
        "          lambda x: 2*x,\n",
        "          x_range = [-2,2],\n",
        "          color = RED\n",
        "      )\n",
        "      self.play(\n",
        "          ReplacementTransform(parabel, parabel_prime),\n",
        "          run_time = 2\n",
        "      )\n",
        "      self.wait()"
      ],
      "execution_count": null,
      "outputs": []
    },
    {
      "cell_type": "code",
      "metadata": {
        "id": "ZdlwHxBjL01G"
      },
      "source": [
        "%%manim -v WARNING  --progress_bar None  --disable_caching -ql AxesExample\n",
        "\n",
        "config.media_width = \"50%\"\n",
        "\n",
        "class AxesExample(Scene):\n",
        "    def construct(self):\n",
        "      # n = NumberPlane()\n",
        "      ax = Axes(\n",
        "          x_range = [-8,8],\n",
        "          y_range = [-4,4],\n",
        "          x_length = 14,\n",
        "          y_length = 7,\n",
        "          tips = True\n",
        "      )\n",
        "      ax.add_coordinates()\n",
        "      parabel = ax.get_graph(\n",
        "          lambda x: 3*np.sin(x),\n",
        "          x_range = [-8,8],\n",
        "          color = RED\n",
        "      )\n",
        "      self.play(\n",
        "          Create(ax)\n",
        "      )\n",
        "      self.wait(0.5)\n",
        "      self.play(\n",
        "          Create(parabel)\n",
        "      )\n",
        "      self.wait()\n",
        "      area = ax.get_area(\n",
        "          parabel,\n",
        "          x_range = [-1.5,1],\n",
        "          color = [GREEN, PINK],\n",
        "          opacity = 1\n",
        "      )\n",
        "      self.play(\n",
        "          FadeIn(area)\n",
        "      )\n",
        "      self.wait()"
      ],
      "execution_count": null,
      "outputs": []
    },
    {
      "cell_type": "code",
      "metadata": {
        "id": "cfqJHK0NPsvX"
      },
      "source": [
        "%%manim -v WARNING  --progress_bar None  --disable_caching -ql AxesExample\n",
        "\n",
        "config.media_width = \"50%\"\n",
        "\n",
        "class AxesExample(Scene):\n",
        "    def construct(self):\n",
        "      # n = NumberPlane()\n",
        "      ax = Axes(\n",
        "          x_range = [-1,8],\n",
        "          y_range = [-1,4],\n",
        "          x_length = 14,\n",
        "          y_length = 7,\n",
        "          tips = True\n",
        "      )\n",
        "      sqrt = ax.get_graph(\n",
        "          lambda x: np.sqrt(x),\n",
        "          x_range = [0, 7, 0.01]\n",
        "      )\n",
        "      self.add(ax, sqrt)\n",
        "      rects_1 = ax.get_riemann_rectangles(\n",
        "          sqrt,\n",
        "          x_range = [1,7],\n",
        "          dx = 6\n",
        "      )\n",
        "      rects_2 = ax.get_riemann_rectangles(\n",
        "          sqrt,\n",
        "          x_range = [1,7],\n",
        "          dx = 3\n",
        "      )\n",
        "      rects_3 = ax.get_riemann_rectangles(\n",
        "          sqrt,\n",
        "          x_range = [1,7],\n",
        "          dx = 2\n",
        "      )\n",
        "      self.play(\n",
        "          Create(rects_1)\n",
        "      )\n",
        "      self.wait()\n",
        "      self.play(\n",
        "          ReplacementTransform(rects_1, rects_2)\n",
        "      )\n",
        "      self.wait()\n",
        "      self.play(\n",
        "          ReplacementTransform(rects_2, rects_3)\n",
        "      )\n",
        "      self.wait()\n",
        "     "
      ],
      "execution_count": null,
      "outputs": []
    },
    {
      "cell_type": "code",
      "metadata": {
        "id": "OMGFPzYxRO7D"
      },
      "source": [
        "%%manim -v WARNING  --progress_bar None  --disable_caching -ql AxesExample\n",
        "\n",
        "config.media_width = \"50%\"\n",
        "\n",
        "class AxesExample(Scene):\n",
        "    def construct(self):\n",
        "      # n = NumberPlane()\n",
        "      ax = Axes(\n",
        "          x_range = [-1,8],\n",
        "          y_range = [-1,4],\n",
        "          x_length = 14,\n",
        "          y_length = 7,\n",
        "          tips = True\n",
        "      )\n",
        "      sqrt = ax.get_graph(\n",
        "          lambda x: np.sqrt(x),\n",
        "          x_range = [0, 7, 0.01]\n",
        "      )\n",
        "      self.add(ax, sqrt) # Alles klar!\n",
        "      \n",
        "      dx_integration = [6, 3, 2, 1, 0.5, 0.25]\n",
        "      rects = VGroup()\n",
        "\n",
        "      for distance in dx_integration:\n",
        "        area = ax.get_riemann_rectangles(\n",
        "            sqrt,\n",
        "            x_range = [1,7],\n",
        "            dx = distance\n",
        "        )\n",
        "        rects.add(area)\n",
        "\n",
        "      self.play(\n",
        "          Create(rects[0])\n",
        "      )\n",
        "      self.wait()\n",
        "\n",
        "      for k in range(0,len(dx_integration)-1):\n",
        "        self.play(\n",
        "          ReplacementTransform(rects[k], rects[ k+1])\n",
        "        )\n",
        "        self.wait()        "
      ],
      "execution_count": null,
      "outputs": []
    },
    {
      "cell_type": "code",
      "metadata": {
        "id": "EuOI8pnSVjpB"
      },
      "source": [
        ""
      ],
      "execution_count": null,
      "outputs": []
    }
  ]
}